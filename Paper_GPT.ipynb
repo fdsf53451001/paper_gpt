{
  "nbformat": 4,
  "nbformat_minor": 0,
  "metadata": {
    "colab": {
      "provenance": []
    },
    "kernelspec": {
      "name": "python3",
      "display_name": "Python 3"
    },
    "language_info": {
      "name": "python"
    }
  },
  "cells": [
    {
      "cell_type": "markdown",
      "source": [
        "## Paper GPT"
      ],
      "metadata": {
        "id": "OPOTuwqpXfus"
      }
    },
    {
      "cell_type": "code",
      "source": [
        "!pip install gradio\n",
        "!pip install openai"
      ],
      "metadata": {
        "id": "7oimYjhJYTkf"
      },
      "execution_count": null,
      "outputs": []
    },
    {
      "cell_type": "code",
      "execution_count": null,
      "metadata": {
        "id": "uIR-8eJ2XOi5"
      },
      "outputs": [],
      "source": [
        "import gradio as gr\n",
        "import openai\n",
        "import json\n",
        "import os"
      ]
    },
    {
      "cell_type": "markdown",
      "source": [
        "set up OpenAI API key in colab secret"
      ],
      "metadata": {
        "id": "B7ZXSJ0CXjU5"
      }
    },
    {
      "cell_type": "code",
      "source": [
        "from google.colab import userdata\n",
        "openai.api_key = userdata.get('OPENAI_APIKEY')"
      ],
      "metadata": {
        "id": "P4dZwxaIXQh-"
      },
      "execution_count": null,
      "outputs": []
    },
    {
      "cell_type": "code",
      "source": [
        "def get_gpt_response_json(comment=\"\"):\n",
        "    completion = openai.chat.completions.create(\n",
        "        model=\"gpt-4-turbo\",\n",
        "        response_format={\"type\": \"json_object\"},\n",
        "        temperature=0,\n",
        "        messages=[\n",
        "            {\"role\": \"user\", \"content\": comment+' return in json format, Please fill in your answer, don’t leave anything out, don’t use ... to omit content.'}\n",
        "        ]\n",
        "    )\n",
        "\n",
        "    response_str = completion.choices[0].message.content\n",
        "    response_str = response_str.replace('\\\\\\\\','\\\\')\n",
        "    return response_str"
      ],
      "metadata": {
        "id": "ZEdhuqZpXYRl"
      },
      "execution_count": null,
      "outputs": []
    },
    {
      "cell_type": "code",
      "source": [
        "def process(latex, comment, line):\n",
        "    line_start = 0\n",
        "    if line:\n",
        "        line_offset = 10\n",
        "        line_num = int(line)\n",
        "        latex = latex.split('\\n')\n",
        "        line_start = line_num-line_offset-1 if line_num-line_offset-1 > 0 else 0\n",
        "        latex = '\\n'.join(latex[line_start:line_num+line_offset-1])\n",
        "\n",
        "    prompt = 'You are a scientist who is good at writing papers. Please modify the following LaTex according to the suggestions.'\n",
        "    prompt += '\\n---------------------------------------------------'\n",
        "    prompt += 'Example 1: '\n",
        "    prompt += 'Latex: '\n",
        "    prompt += '$x^2 + 2x + 1 = 0$'\n",
        "    prompt += '\\nSuggestions: Please change the equation to $x^2 + 2x = 0$ Output: {\"origin\":\"$x^2 + 2x + 1 = 0$\", change:\"$x^2 + 2x = 0$\", \"line\":1}'\n",
        "    prompt += '\\n---------------------------------------------------'\n",
        "    prompt += f'Now you have the following LaTex : {latex}. Please modify LaTex according to the following suggestions : {comment}'\n",
        "\n",
        "    response_json = get_gpt_response_json(comment=prompt)\n",
        "    return str(response_json)"
      ],
      "metadata": {
        "id": "lO5zOv9kXaMB"
      },
      "execution_count": null,
      "outputs": []
    },
    {
      "cell_type": "code",
      "source": [
        "with gr.Blocks(title='Paper GPT') as demo:\n",
        "    gr.Markdown('# Paper GPT')\n",
        "    with gr.Row():\n",
        "        textbox1 = gr.Textbox(lines=29, label=\"LaTex\", show_label=True, show_copy_button=True)\n",
        "        with gr.Column():\n",
        "            textbox2 = gr.Textbox(lines=5, label=\"Comment\", show_label=True)\n",
        "            textbox_line = gr.Textbox(lines=1, label=\"Line\", show_label=True)\n",
        "            btn = gr.Button(value=\"Submit\", variant=\"primary\")\n",
        "            textbox3 = gr.Textbox(lines=11, label=\"Change\", show_label=True)\n",
        "\n",
        "    btn.click(process, [textbox1, textbox2, textbox_line], textbox3)\n",
        "\n",
        "demo.launch()"
      ],
      "metadata": {
        "id": "YTNONvYkXdNp"
      },
      "execution_count": null,
      "outputs": []
    }
  ]
}